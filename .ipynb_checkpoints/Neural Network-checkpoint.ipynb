{
 "cells": [
  {
   "cell_type": "code",
   "execution_count": 32,
   "metadata": {
    "collapsed": true
   },
   "outputs": [],
   "source": [
    "import numpy as np\n",
    "\n",
    "class Data():\n",
    "#Data.X_train\n",
    "#Data.y_train\n",
    "#Data.X_test\n",
    "#Data.y_train\n",
    "#Data.train_image_count\n",
    "#Dara.test_image_count\n",
    "#Data.image_col\n",
    "#Data.image_row\n",
    "#Data.image_dim\n",
    "\n",
    "    def __init__(self):\n",
    "        self.X_train = None\n",
    "        self.y_train = None\n",
    "        self.X_test = None\n",
    "        self.y_train = None\n",
    "        self.train_image_count = None\n",
    "        self.test_image_count = None\n",
    "        self.image_col = None\n",
    "        self.image_row = None\n",
    "        self.image_dim = None\n",
    "\n",
    "        self.loadTrainData()\n",
    "        self.loadTrainLabel()\n",
    "\n",
    "    def loadTrainData(self):\n",
    "        with open('./data/train-images-idx3-ubyte', 'rb') as inputfile:\n",
    "            content = inputfile.read()\n",
    "        self.train_image_count = int.from_bytes(content[4:8], 'big') # 手書き画像枚数\n",
    "        self.image_row = int.from_bytes(content[8:12], 'big') # 手書き画像行数\n",
    "        self.image_col = int.from_bytes(content[12:16], 'big') # 手書き画像列数\n",
    "        images = np.frombuffer(content, np.uint8, -1, 16)# 手書き画像データの読み込み\n",
    "        self.X_train = images.reshape(self.train_image_count, self.image_row, self.image_col, 1) # 一つの画像を一列にまとめる\n",
    "\n",
    "    def loadTrainLabel(self):\n",
    "        with open('./data/train-labels-idx1-ubyte', 'rb') as inputfile:\n",
    "            content = inputfile.read()\n",
    "        labels = np.frombuffer(content, np.uint8, -1, 8) #ラベルの読み込み(5,0,4,...)\n",
    "        one_hot_label = np.zeros((self.train_image_count, 10))  #one_hot_vectorに変換\n",
    "        one_hot_label[np.arange(self.train_image_count), labels] = 1\n",
    "        self.y_train = one_hot_label"
   ]
  },
  {
   "cell_type": "code",
   "execution_count": 34,
   "metadata": {},
   "outputs": [],
   "source": [
    "data = Data()"
   ]
  },
  {
   "cell_type": "code",
   "execution_count": 35,
   "metadata": {},
   "outputs": [
    {
     "ename": "IndentationError",
     "evalue": "unexpected indent (<ipython-input-35-66d925f54008>, line 2)",
     "output_type": "error",
     "traceback": [
      "\u001b[0;36m  File \u001b[0;32m\"<ipython-input-35-66d925f54008>\"\u001b[0;36m, line \u001b[0;32m2\u001b[0m\n\u001b[0;31m    hidden_dim = 400 #これはパラメータ\u001b[0m\n\u001b[0m    ^\u001b[0m\n\u001b[0;31mIndentationError\u001b[0m\u001b[0;31m:\u001b[0m unexpected indent\n"
     ]
    }
   ],
   "source": [
    "input_dim = data.image_raw * data.image_col\n",
    "hidden_dim = 400 #これはパラメータ\n",
    "output_dim = 10 #出力の次元は0から9まで\n",
    "np.random.seed(0)\n",
    "#initialize parameter, weight, bias\n",
    "x = data.image.reshape(input_dim)\n",
    "#input→hidden\n",
    "w1 = np.random.rand( input_dim * hidden_dim).reshape(input_dim, hidden_dim) #0に初期化\n",
    "b1 = np.zeros(hidden_dim) #0で初期化\n",
    "#hidden→output\n",
    "w2 = np.random.rand( input_dim * hidden_dim).reshape(hidden_dim, output_dim) #0~1の間でランダムに初期化\n",
    "b2 = np.zeros((1, output_dim))"
   ]
  },
  {
   "cell_type": "code",
   "execution_count": null,
   "metadata": {
    "collapsed": true
   },
   "outputs": [],
   "source": []
  }
 ],
 "metadata": {
  "kernelspec": {
   "display_name": "Python 3",
   "language": "python",
   "name": "python3"
  },
  "language_info": {
   "codemirror_mode": {
    "name": "ipython",
    "version": 3
   },
   "file_extension": ".py",
   "mimetype": "text/x-python",
   "name": "python",
   "nbconvert_exporter": "python",
   "pygments_lexer": "ipython3",
   "version": "3.6.0"
  }
 },
 "nbformat": 4,
 "nbformat_minor": 2
}
